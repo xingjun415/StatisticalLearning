{
 "cells": [
  {
   "cell_type": "markdown",
   "metadata": {},
   "source": [
    "# 统计学习方法：\n",
    "## 例2.1"
   ]
  },
  {
   "cell_type": "code",
   "execution_count": 1,
   "metadata": {
    "collapsed": true
   },
   "outputs": [],
   "source": [
    "import numpy as np"
   ]
  },
  {
   "cell_type": "code",
   "execution_count": 8,
   "metadata": {
    "collapsed": false
   },
   "outputs": [],
   "source": [
    "loop_times = 500\n",
    "learning_rate = 1\n",
    "\n",
    "def get_y(w, x, b):\n",
    "    return np.dot(w,x) + b\n",
    "\n",
    "def predict(x,y):\n",
    "    w = np.zeros_like(x[0])\n",
    "    b = 0\n",
    "    for _ in range(loop_times):\n",
    "        have_neg = False\n",
    "        for index in range(x.shape[0]):\n",
    "            if y[index] * get_y(w, x[index], b)  <= 0:\n",
    "                w = w + learning_rate * y[index] * x[index]\n",
    "                b = b + learning_rate * y[index]\n",
    "                print(\"index :{0}, w : {1}, b: {2} \".format(index, w, b))\n",
    "                have_neg = True\n",
    "                break\n",
    "    if not have_neg:\n",
    "                return w, b\n",
    "    return w,b        "
   ]
  },
  {
   "cell_type": "code",
   "execution_count": 9,
   "metadata": {
    "collapsed": false
   },
   "outputs": [
    {
     "name": "stdout",
     "output_type": "stream",
     "text": [
      "[[3 3]\n",
      " [4 3]\n",
      " [1 1]] [[ 1]\n",
      " [ 1]\n",
      " [-1]]\n",
      "index :0, w : [3 3], b: [1] \n",
      "index :2, w : [2 2], b: [0] \n",
      "index :2, w : [1 1], b: [-1] \n",
      "index :2, w : [0 0], b: [-2] \n",
      "index :0, w : [3 3], b: [-1] \n",
      "index :2, w : [2 2], b: [-2] \n",
      "index :2, w : [1 1], b: [-3] \n",
      "Result :  [1 1] [-3]\n"
     ]
    }
   ],
   "source": [
    "x = np.array([[3,3],[4,3],[1,1]])\n",
    "y = np.array([[1], [1], [-1]])\n",
    "print(x,y)\n",
    "w,b = predict(x,y)\n",
    "print(\"Result : \", w, b)  "
   ]
  },
  {
   "cell_type": "code",
   "execution_count": null,
   "metadata": {
    "collapsed": true
   },
   "outputs": [],
   "source": []
  }
 ],
 "metadata": {
  "kernelspec": {
   "display_name": "Python 3",
   "language": "python",
   "name": "python3"
  },
  "language_info": {
   "codemirror_mode": {
    "name": "ipython",
    "version": 3
   },
   "file_extension": ".py",
   "mimetype": "text/x-python",
   "name": "python",
   "nbconvert_exporter": "python",
   "pygments_lexer": "ipython3",
   "version": "3.6.0"
  }
 },
 "nbformat": 4,
 "nbformat_minor": 2
}
